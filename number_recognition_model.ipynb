{
  "nbformat": 4,
  "nbformat_minor": 0,
  "metadata": {
    "colab": {
      "provenance": [],
      "authorship_tag": "ABX9TyNOK6yRpLOL20S0uUg0Xiw+",
      "include_colab_link": true
    },
    "kernelspec": {
      "name": "python3",
      "display_name": "Python 3"
    },
    "language_info": {
      "name": "python"
    }
  },
  "cells": [
    {
      "cell_type": "markdown",
      "metadata": {
        "id": "view-in-github",
        "colab_type": "text"
      },
      "source": [
        "<a href=\"https://colab.research.google.com/github/mayanksreal/marks-evaluation/blob/main/number_recognition_model.ipynb\" target=\"_parent\"><img src=\"https://colab.research.google.com/assets/colab-badge.svg\" alt=\"Open In Colab\"/></a>"
      ]
    },
    {
      "cell_type": "markdown",
      "source": [
        "#Handwritten Numerical Character Recognition"
      ],
      "metadata": {
        "id": "NY0m_bl-SqYS"
      }
    },
    {
      "cell_type": "markdown",
      "source": [
        "The goal of this project is to build a machine learning model that recognizes handwritten digits with very high accuracy. Using the MNIST dataset, we will build and evaluate the model."
      ],
      "metadata": {
        "id": "z8ShUdk7TCSY"
      }
    },
    {
      "cell_type": "code",
      "source": [
        "dc"
      ],
      "metadata": {
        "id": "qBvmzcyaYRLz"
      },
      "execution_count": null,
      "outputs": []
    },
    {
      "cell_type": "markdown",
      "source": [
        "## Importing Libraries"
      ],
      "metadata": {
        "id": "VmYiJnsaSzS2"
      }
    },
    {
      "cell_type": "code",
      "source": [
        "import numpy as np\n",
        "import pandas as dp\n",
        "import tensorflow as tf\n",
        "from matplotlib import pyplot"
      ],
      "metadata": {
        "id": "u5_B_qD_S-EG"
      },
      "execution_count": null,
      "outputs": []
    }
  ]
}