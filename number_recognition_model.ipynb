{
  "nbformat": 4,
  "nbformat_minor": 0,
  "metadata": {
    "colab": {
      "provenance": [],
      "authorship_tag": "ABX9TyMLG504MHOlKBJA0k+5y0cU",
      "include_colab_link": true
    },
    "kernelspec": {
      "name": "python3",
      "display_name": "Python 3"
    },
    "language_info": {
      "name": "python"
    }
  },
  "cells": [
    {
      "cell_type": "markdown",
      "metadata": {
        "id": "view-in-github",
        "colab_type": "text"
      },
      "source": [
        "<a href=\"https://colab.research.google.com/github/mayanksreal/marks-evaluation/blob/main/number_recognition_model.ipynb\" target=\"_parent\"><img src=\"https://colab.research.google.com/assets/colab-badge.svg\" alt=\"Open In Colab\"/></a>"
      ]
    },
    {
      "cell_type": "markdown",
      "source": [
        "#Handwritten Numerical Character Recognition"
      ],
      "metadata": {
        "id": "NY0m_bl-SqYS"
      }
    },
    {
      "cell_type": "markdown",
      "source": [
        "The goal of this project is to build a machine learning model that recognizes handwritten digits with very high accuracy. Using the MNIST dataset, we will build and evaluate the model."
      ],
      "metadata": {
        "id": "z8ShUdk7TCSY"
      }
    },
    {
      "cell_type": "markdown",
      "source": [
        "## Importing Libraries"
      ],
      "metadata": {
        "id": "VmYiJnsaSzS2"
      }
    },
    {
      "cell_type": "code",
      "source": [
        "import numpy as np\n",
        "import pandas as dp\n",
        "import tensorflow as tf\n",
        "from matplotlib import pyplot"
      ],
      "metadata": {
        "id": "u5_B_qD_S-EG"
      },
      "execution_count": 51,
      "outputs": []
    },
    {
      "cell_type": "markdown",
      "source": [
        "##Loading Data"
      ],
      "metadata": {
        "id": "xzLjOHWmYw9C"
      }
    },
    {
      "cell_type": "markdown",
      "source": [
        "The MNIST dataset (Modified National Institute of Standards and Technology database) is one of the most popular datasets in machine learning. MNIST is a dataset of 60,000 square 28×28 pixel images of handwritten single digits between 0 and 9. MNIST is part of datasets provided with Keras."
      ],
      "metadata": {
        "id": "rwIGkhkXY0to"
      }
    },
    {
      "cell_type": "code",
      "source": [
        "(x_train, y_train), (x_test, y_test) = tf.keras.datasets.mnist.load_data()"
      ],
      "metadata": {
        "id": "H8zqG1TbZYCV"
      },
      "execution_count": 52,
      "outputs": []
    },
    {
      "cell_type": "markdown",
      "source": [
        "We have loaded data into respective 4 arrays<br>\n",
        "\n",
        "\n",
        "*   **x_train** and **y_train** contain features and labels for\n",
        "training\n",
        "*   **x_test** and **y_test** contain features and labels for testing\n",
        "\n",
        "\n",
        "\n",
        "\n",
        "\n"
      ],
      "metadata": {
        "id": "tChKregwaHwV"
      }
    },
    {
      "cell_type": "markdown",
      "source": [
        "###Normalizing the data"
      ],
      "metadata": {
        "id": "3_up0ZyxgcTS"
      }
    },
    {
      "cell_type": "markdown",
      "source": [
        "Normalization of data is coverting it to a range of 0 to 1 for better working of algorithms. Since present data is between 0 and 255, divide data by 255.0"
      ],
      "metadata": {
        "id": "J9fM8BMgghTr"
      }
    },
    {
      "cell_type": "code",
      "source": [
        "x_train_normal, x_test_normal = x_train/255.0, x_test/255.0"
      ],
      "metadata": {
        "id": "3w6ztGHngxbi"
      },
      "execution_count": 53,
      "outputs": []
    },
    {
      "cell_type": "markdown",
      "source": [
        "## Defining the model"
      ],
      "metadata": {
        "id": "qEEy-q7Nbg1j"
      }
    },
    {
      "cell_type": "code",
      "source": [
        "model = tf.keras.Sequential()"
      ],
      "metadata": {
        "id": "-rENw9jwbj5V"
      },
      "execution_count": 54,
      "outputs": []
    },
    {
      "cell_type": "markdown",
      "source": [
        "### Adding Layers"
      ],
      "metadata": {
        "id": "yPQPvrNUcFaa"
      }
    },
    {
      "cell_type": "code",
      "source": [
        "model.add(tf.keras.layers.Flatten(input_shape=(28,28,1)))\n",
        "\n",
        "model.add(tf.keras.layers.Dense(units = 128, activation = 'relu'))\n",
        "\n",
        "model.add(tf.keras.layers.Dropout(0.2))\n",
        "\n",
        "model.add(tf.keras.layers.Dense(units = 64, activation = 'relu'))\n",
        "\n",
        "model.add(tf.keras.layers.Dropout(0.2))\n",
        "\n",
        "# Output layer\n",
        "\n",
        "model.add(tf.keras.layers.Dense(units = 10, activation = 'softmax'))"
      ],
      "metadata": {
        "id": "pQv-YibvcHsN"
      },
      "execution_count": 55,
      "outputs": []
    },
    {
      "cell_type": "markdown",
      "source": [
        "### Compiling the model"
      ],
      "metadata": {
        "id": "4bEDMJHlc3uK"
      }
    },
    {
      "cell_type": "code",
      "source": [
        "model.compile(optimizer=tf.keras.optimizers.Adam(learning_rate=0.003),\n",
        "              loss = 'sparse_categorical_crossentropy',\n",
        "              metrics=['accuracy'])"
      ],
      "metadata": {
        "id": "O9GT2ju3c8WY"
      },
      "execution_count": 56,
      "outputs": []
    },
    {
      "cell_type": "markdown",
      "source": [
        "### Fitting data / Training the model"
      ],
      "metadata": {
        "id": "YRPAGdgOdgrU"
      }
    },
    {
      "cell_type": "code",
      "source": [
        "model.fit(x = x_train_normal, y = y_train, epochs = 30, batch_size = 4000, validation_split = 0.1)"
      ],
      "metadata": {
        "collapsed": true,
        "id": "rGARUeBPdkSU",
        "outputId": "5065da0e-024f-436b-b43f-05fa7fedb43d",
        "colab": {
          "base_uri": "https://localhost:8080/"
        }
      },
      "execution_count": 57,
      "outputs": [
        {
          "output_type": "stream",
          "name": "stdout",
          "text": [
            "Epoch 1/30\n",
            "14/14 [==============================] - 3s 159ms/step - loss: 1.3145 - accuracy: 0.5870 - val_loss: 0.3743 - val_accuracy: 0.8938\n",
            "Epoch 2/30\n",
            "14/14 [==============================] - 1s 52ms/step - loss: 0.4972 - accuracy: 0.8467 - val_loss: 0.2372 - val_accuracy: 0.9333\n",
            "Epoch 3/30\n",
            "14/14 [==============================] - 1s 54ms/step - loss: 0.3480 - accuracy: 0.8962 - val_loss: 0.1840 - val_accuracy: 0.9463\n",
            "Epoch 4/30\n",
            "14/14 [==============================] - 1s 56ms/step - loss: 0.2814 - accuracy: 0.9165 - val_loss: 0.1535 - val_accuracy: 0.9585\n",
            "Epoch 5/30\n",
            "14/14 [==============================] - 1s 50ms/step - loss: 0.2397 - accuracy: 0.9295 - val_loss: 0.1343 - val_accuracy: 0.9620\n",
            "Epoch 6/30\n",
            "14/14 [==============================] - 1s 51ms/step - loss: 0.2102 - accuracy: 0.9388 - val_loss: 0.1175 - val_accuracy: 0.9675\n",
            "Epoch 7/30\n",
            "14/14 [==============================] - 1s 51ms/step - loss: 0.1900 - accuracy: 0.9429 - val_loss: 0.1087 - val_accuracy: 0.9693\n",
            "Epoch 8/30\n",
            "14/14 [==============================] - 1s 52ms/step - loss: 0.1714 - accuracy: 0.9496 - val_loss: 0.1016 - val_accuracy: 0.9703\n",
            "Epoch 9/30\n",
            "14/14 [==============================] - 1s 54ms/step - loss: 0.1574 - accuracy: 0.9536 - val_loss: 0.0924 - val_accuracy: 0.9730\n",
            "Epoch 10/30\n",
            "14/14 [==============================] - 1s 52ms/step - loss: 0.1408 - accuracy: 0.9577 - val_loss: 0.0900 - val_accuracy: 0.9722\n",
            "Epoch 11/30\n",
            "14/14 [==============================] - 1s 57ms/step - loss: 0.1333 - accuracy: 0.9597 - val_loss: 0.0848 - val_accuracy: 0.9738\n",
            "Epoch 12/30\n",
            "14/14 [==============================] - 1s 53ms/step - loss: 0.1242 - accuracy: 0.9625 - val_loss: 0.0816 - val_accuracy: 0.9752\n",
            "Epoch 13/30\n",
            "14/14 [==============================] - 1s 51ms/step - loss: 0.1149 - accuracy: 0.9654 - val_loss: 0.0811 - val_accuracy: 0.9748\n",
            "Epoch 14/30\n",
            "14/14 [==============================] - 1s 50ms/step - loss: 0.1098 - accuracy: 0.9664 - val_loss: 0.0757 - val_accuracy: 0.9782\n",
            "Epoch 15/30\n",
            "14/14 [==============================] - 1s 82ms/step - loss: 0.1036 - accuracy: 0.9691 - val_loss: 0.0744 - val_accuracy: 0.9780\n",
            "Epoch 16/30\n",
            "14/14 [==============================] - 1s 85ms/step - loss: 0.0946 - accuracy: 0.9713 - val_loss: 0.0727 - val_accuracy: 0.9775\n",
            "Epoch 17/30\n",
            "14/14 [==============================] - 1s 79ms/step - loss: 0.0908 - accuracy: 0.9724 - val_loss: 0.0702 - val_accuracy: 0.9788\n",
            "Epoch 18/30\n",
            "14/14 [==============================] - 1s 50ms/step - loss: 0.0856 - accuracy: 0.9731 - val_loss: 0.0723 - val_accuracy: 0.9792\n",
            "Epoch 19/30\n",
            "14/14 [==============================] - 1s 50ms/step - loss: 0.0824 - accuracy: 0.9752 - val_loss: 0.0692 - val_accuracy: 0.9792\n",
            "Epoch 20/30\n",
            "14/14 [==============================] - 1s 53ms/step - loss: 0.0765 - accuracy: 0.9766 - val_loss: 0.0694 - val_accuracy: 0.9808\n",
            "Epoch 21/30\n",
            "14/14 [==============================] - 1s 57ms/step - loss: 0.0734 - accuracy: 0.9776 - val_loss: 0.0672 - val_accuracy: 0.9787\n",
            "Epoch 22/30\n",
            "14/14 [==============================] - 1s 62ms/step - loss: 0.0693 - accuracy: 0.9784 - val_loss: 0.0658 - val_accuracy: 0.9810\n",
            "Epoch 23/30\n",
            "14/14 [==============================] - 1s 53ms/step - loss: 0.0667 - accuracy: 0.9797 - val_loss: 0.0669 - val_accuracy: 0.9805\n",
            "Epoch 24/30\n",
            "14/14 [==============================] - 1s 53ms/step - loss: 0.0657 - accuracy: 0.9795 - val_loss: 0.0648 - val_accuracy: 0.9818\n",
            "Epoch 25/30\n",
            "14/14 [==============================] - 1s 52ms/step - loss: 0.0612 - accuracy: 0.9807 - val_loss: 0.0641 - val_accuracy: 0.9805\n",
            "Epoch 26/30\n",
            "14/14 [==============================] - 1s 52ms/step - loss: 0.0591 - accuracy: 0.9814 - val_loss: 0.0658 - val_accuracy: 0.9815\n",
            "Epoch 27/30\n",
            "14/14 [==============================] - 1s 52ms/step - loss: 0.0576 - accuracy: 0.9817 - val_loss: 0.0655 - val_accuracy: 0.9812\n",
            "Epoch 28/30\n",
            "14/14 [==============================] - 1s 52ms/step - loss: 0.0563 - accuracy: 0.9819 - val_loss: 0.0647 - val_accuracy: 0.9815\n",
            "Epoch 29/30\n",
            "14/14 [==============================] - 1s 55ms/step - loss: 0.0538 - accuracy: 0.9826 - val_loss: 0.0646 - val_accuracy: 0.9818\n",
            "Epoch 30/30\n",
            "14/14 [==============================] - 1s 51ms/step - loss: 0.0502 - accuracy: 0.9844 - val_loss: 0.0670 - val_accuracy: 0.9820\n"
          ]
        },
        {
          "output_type": "execute_result",
          "data": {
            "text/plain": [
              "<keras.src.callbacks.History at 0x7f4f9d89f9d0>"
            ]
          },
          "metadata": {},
          "execution_count": 57
        }
      ]
    },
    {
      "cell_type": "markdown",
      "source": [
        "## Evaluation"
      ],
      "metadata": {
        "id": "2zDMfELkibCC"
      }
    },
    {
      "cell_type": "markdown",
      "source": [
        "Now let's evaluate how our model does against test data"
      ],
      "metadata": {
        "id": "tNFLVezQigBL"
      }
    },
    {
      "cell_type": "code",
      "source": [
        "model.evaluate(x = x_test_normal, y = y_test, batch_size = 4000)"
      ],
      "metadata": {
        "id": "MwbM0bqZinI-",
        "outputId": "3dbe73fb-1ee8-4ecd-988a-ed6fa63b6f4a",
        "colab": {
          "base_uri": "https://localhost:8080/"
        }
      },
      "execution_count": 58,
      "outputs": [
        {
          "output_type": "stream",
          "name": "stdout",
          "text": [
            "3/3 [==============================] - 0s 17ms/step - loss: 0.0750 - accuracy: 0.9780\n"
          ]
        },
        {
          "output_type": "execute_result",
          "data": {
            "text/plain": [
              "[0.0749596431851387, 0.9779999852180481]"
            ]
          },
          "metadata": {},
          "execution_count": 58
        }
      ]
    },
    {
      "cell_type": "markdown",
      "source": [
        "We get ~ 97-98% accuracy using this simple neural net"
      ],
      "metadata": {
        "id": "ACDAVmlhiyuJ"
      }
    }
  ]
}