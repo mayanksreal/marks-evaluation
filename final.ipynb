{
  "cells": [
    {
      "cell_type": "markdown",
      "metadata": {
        "id": "view-in-github",
        "colab_type": "text"
      },
      "source": [
        "<a href=\"https://colab.research.google.com/github/mayanksreal/marks-evaluation/blob/main/final.ipynb\" target=\"_parent\"><img src=\"https://colab.research.google.com/assets/colab-badge.svg\" alt=\"Open In Colab\"/></a>"
      ]
    },
    {
      "cell_type": "markdown",
      "id": "d9ce2cf6-540a-4eb8-8b34-6fbebd64b096",
      "metadata": {
        "id": "d9ce2cf6-540a-4eb8-8b34-6fbebd64b096"
      },
      "source": [
        "# Handwritten Number Recognition Model (CNN)"
      ]
    },
    {
      "cell_type": "markdown",
      "id": "8979ac78-cd55-4d91-993f-b67156dbd116",
      "metadata": {
        "id": "8979ac78-cd55-4d91-993f-b67156dbd116"
      },
      "source": [
        "## Importing Libraries"
      ]
    },
    {
      "cell_type": "code",
      "execution_count": null,
      "id": "f60ed279-2060-429f-ab0e-2488e6da8651",
      "metadata": {
        "collapsed": true,
        "id": "f60ed279-2060-429f-ab0e-2488e6da8651",
        "colab": {
          "base_uri": "https://localhost:8080/"
        },
        "outputId": "055413a1-f505-4f27-9ca8-4618c3cc3ed3"
      },
      "outputs": [
        {
          "output_type": "stream",
          "name": "stdout",
          "text": [
            "Requirement already satisfied: easyocr in /usr/local/lib/python3.10/dist-packages (1.7.2)\n",
            "Requirement already satisfied: torch in /usr/local/lib/python3.10/dist-packages (from easyocr) (2.4.1+cu121)\n",
            "Requirement already satisfied: torchvision>=0.5 in /usr/local/lib/python3.10/dist-packages (from easyocr) (0.19.1+cu121)\n",
            "Requirement already satisfied: opencv-python-headless in /usr/local/lib/python3.10/dist-packages (from easyocr) (4.10.0.84)\n",
            "Requirement already satisfied: scipy in /usr/local/lib/python3.10/dist-packages (from easyocr) (1.13.1)\n",
            "Requirement already satisfied: numpy in /usr/local/lib/python3.10/dist-packages (from easyocr) (1.26.4)\n",
            "Requirement already satisfied: Pillow in /usr/local/lib/python3.10/dist-packages (from easyocr) (10.4.0)\n",
            "Requirement already satisfied: scikit-image in /usr/local/lib/python3.10/dist-packages (from easyocr) (0.24.0)\n",
            "Requirement already satisfied: python-bidi in /usr/local/lib/python3.10/dist-packages (from easyocr) (0.6.0)\n",
            "Requirement already satisfied: PyYAML in /usr/local/lib/python3.10/dist-packages (from easyocr) (6.0.2)\n",
            "Requirement already satisfied: Shapely in /usr/local/lib/python3.10/dist-packages (from easyocr) (2.0.6)\n",
            "Requirement already satisfied: pyclipper in /usr/local/lib/python3.10/dist-packages (from easyocr) (1.3.0.post5)\n",
            "Requirement already satisfied: ninja in /usr/local/lib/python3.10/dist-packages (from easyocr) (1.11.1.1)\n",
            "Requirement already satisfied: filelock in /usr/local/lib/python3.10/dist-packages (from torch->easyocr) (3.16.1)\n",
            "Requirement already satisfied: typing-extensions>=4.8.0 in /usr/local/lib/python3.10/dist-packages (from torch->easyocr) (4.12.2)\n",
            "Requirement already satisfied: sympy in /usr/local/lib/python3.10/dist-packages (from torch->easyocr) (1.13.3)\n",
            "Requirement already satisfied: networkx in /usr/local/lib/python3.10/dist-packages (from torch->easyocr) (3.3)\n",
            "Requirement already satisfied: jinja2 in /usr/local/lib/python3.10/dist-packages (from torch->easyocr) (3.1.4)\n",
            "Requirement already satisfied: fsspec in /usr/local/lib/python3.10/dist-packages (from torch->easyocr) (2024.6.1)\n",
            "Requirement already satisfied: imageio>=2.33 in /usr/local/lib/python3.10/dist-packages (from scikit-image->easyocr) (2.35.1)\n",
            "Requirement already satisfied: tifffile>=2022.8.12 in /usr/local/lib/python3.10/dist-packages (from scikit-image->easyocr) (2024.9.20)\n",
            "Requirement already satisfied: packaging>=21 in /usr/local/lib/python3.10/dist-packages (from scikit-image->easyocr) (24.1)\n",
            "Requirement already satisfied: lazy-loader>=0.4 in /usr/local/lib/python3.10/dist-packages (from scikit-image->easyocr) (0.4)\n",
            "Requirement already satisfied: MarkupSafe>=2.0 in /usr/local/lib/python3.10/dist-packages (from jinja2->torch->easyocr) (2.1.5)\n",
            "Requirement already satisfied: mpmath<1.4,>=1.1.0 in /usr/local/lib/python3.10/dist-packages (from sympy->torch->easyocr) (1.3.0)\n",
            "Requirement already satisfied: pymupdf in /usr/local/lib/python3.10/dist-packages (1.24.10)\n",
            "Requirement already satisfied: PyMuPDFb==1.24.10 in /usr/local/lib/python3.10/dist-packages (from pymupdf) (1.24.10)\n"
          ]
        }
      ],
      "source": [
        "!pip install easyocr\n",
        "!pip install pymupdf\n",
        "import io\n",
        "import PIL\n",
        "import numpy as np\n",
        "import os\n",
        "import cv2\n",
        "import csv\n",
        "from google.colab.patches import cv2_imshow\n",
        "import matplotlib.pyplot as plt\n",
        "\n",
        "\n",
        "from tensorflow.keras.preprocessing import image #type:ignore\n",
        "from tensorflow.keras.preprocessing.image import ImageDataGenerator #type:ignore\n",
        "from tensorflow.keras.datasets import mnist #type:ignore\n",
        "from tensorflow.keras.models import Sequential #type:ignore\n",
        "from tensorflow.keras.layers import Conv2D, MaxPooling2D, Flatten, Dense, Input #type:ignore\n",
        "from tensorflow.keras.callbacks import EarlyStopping #type:ignore\n",
        "from tensorflow.keras.models import load_model #type:ignore\n",
        "\n",
        "from google.colab.patches import cv2_imshow #type:ignore\n",
        "import easyocr\n",
        "reader = easyocr.Reader(['en'])\n",
        "import pymupdf"
      ]
    },
    {
      "cell_type": "markdown",
      "id": "07fa06d6-f8d1-45d9-afe0-bef8c24dccbf",
      "metadata": {
        "id": "07fa06d6-f8d1-45d9-afe0-bef8c24dccbf"
      },
      "source": [
        "## Importing Dataset"
      ]
    },
    {
      "cell_type": "code",
      "execution_count": null,
      "id": "b19fc2be-f5f5-40e1-b611-ced8cf94392d",
      "metadata": {
        "id": "b19fc2be-f5f5-40e1-b611-ced8cf94392d"
      },
      "outputs": [],
      "source": [
        "(x_train, y_train) , (x_test, y_test) = mnist.load_data()"
      ]
    },
    {
      "cell_type": "markdown",
      "id": "dbe0df75-6926-4a36-a62e-ce6428cddc9c",
      "metadata": {
        "id": "dbe0df75-6926-4a36-a62e-ce6428cddc9c"
      },
      "source": [
        "## Reshaping"
      ]
    },
    {
      "cell_type": "code",
      "execution_count": null,
      "id": "fcf6c811-d2c0-46ef-b9af-54b10645b8b7",
      "metadata": {
        "id": "fcf6c811-d2c0-46ef-b9af-54b10645b8b7"
      },
      "outputs": [],
      "source": [
        "x_train, y_train = x_train.reshape(60000, 28,28,1) , y_train.reshape(60000, 1)\n",
        "x_test, y_test = x_test.reshape(10000, 28,28,1) , y_test.reshape(10000, 1)"
      ]
    },
    {
      "cell_type": "markdown",
      "id": "50b05e93-ec61-4223-a05d-b1d30a433916",
      "metadata": {
        "id": "50b05e93-ec61-4223-a05d-b1d30a433916"
      },
      "source": [
        "## Normalization"
      ]
    },
    {
      "cell_type": "code",
      "execution_count": null,
      "id": "0f772fb2-48b9-4c5c-9ef0-42ab328c00fc",
      "metadata": {
        "id": "0f772fb2-48b9-4c5c-9ef0-42ab328c00fc"
      },
      "outputs": [],
      "source": [
        "x_train, x_test = x_train/255.0 , x_test/255.0"
      ]
    },
    {
      "cell_type": "markdown",
      "id": "6ba6b9bf-54ca-43e1-967e-7d05ebf37a60",
      "metadata": {
        "id": "6ba6b9bf-54ca-43e1-967e-7d05ebf37a60"
      },
      "source": [
        "## Building Model / Train"
      ]
    },
    {
      "cell_type": "code",
      "execution_count": null,
      "id": "a55791aa-576d-4a0a-af50-7ba639057969",
      "metadata": {
        "id": "a55791aa-576d-4a0a-af50-7ba639057969"
      },
      "outputs": [],
      "source": [
        "try:\n",
        "    model = load_model('model.keras')\n",
        "except:\n",
        "\n",
        "    model = Sequential()\n",
        "\n",
        "    model.add(Input(shape=(28,28,1)))\n",
        "    model.add(Conv2D(32, (3,3), activation = 'relu'))\n",
        "    model.add(MaxPooling2D(2,2))\n",
        "\n",
        "    model.add(Conv2D(64, (3,3), activation = 'relu'))\n",
        "    model.add(MaxPooling2D(2,2))\n",
        "\n",
        "    model.add(Flatten())\n",
        "    model.add(Dense(64, activation = 'relu'))\n",
        "    model.add(Dense(10, activation = 'softmax'))\n",
        "\n",
        "    model.compile(loss = 'sparse_categorical_crossentropy' , optimizer = 'adam' , metrics = ['accuracy'])\n",
        "    early = EarlyStopping(monitor='val_loss', patience=3, restore_best_weights=True)\n",
        "\n",
        "    model.fit(x = x_train , y = y_train, validation_split = 0.2, epochs = 30, batch_size = 1000, callbacks = [early])\n",
        "    model.save('model.keras')"
      ]
    },
    {
      "cell_type": "code",
      "execution_count": null,
      "id": "0402c3fe-b85e-4cb0-970a-ed36e3228490",
      "metadata": {
        "id": "0402c3fe-b85e-4cb0-970a-ed36e3228490",
        "colab": {
          "base_uri": "https://localhost:8080/"
        },
        "outputId": "7de7178f-a65b-48a7-a256-f5f282268852"
      },
      "outputs": [
        {
          "output_type": "stream",
          "name": "stdout",
          "text": [
            "\u001b[1m313/313\u001b[0m \u001b[32m━━━━━━━━━━━━━━━━━━━━\u001b[0m\u001b[37m\u001b[0m \u001b[1m1s\u001b[0m 2ms/step - accuracy: 0.4891 - loss: 1.4745\n"
          ]
        },
        {
          "output_type": "execute_result",
          "data": {
            "text/plain": [
              "[1.4906463623046875, 0.4903999865055084]"
            ]
          },
          "metadata": {},
          "execution_count": 234
        }
      ],
      "source": [
        "model.evaluate(x_test, y_test)"
      ]
    },
    {
      "cell_type": "markdown",
      "id": "354e5da4-972b-4884-ad19-3382e2c1e576",
      "metadata": {
        "id": "354e5da4-972b-4884-ad19-3382e2c1e576"
      },
      "source": [
        "# OCR/ CNN function"
      ]
    },
    {
      "cell_type": "markdown",
      "id": "2e087ea6-0290-4d42-aba8-53cd4b3f7759",
      "metadata": {
        "id": "2e087ea6-0290-4d42-aba8-53cd4b3f7759"
      },
      "source": [
        "## CNN"
      ]
    },
    {
      "cell_type": "code",
      "source": [
        "def hand_prediction(img_obj):\n",
        "    image = img_obj\n",
        "    def remove_borders(image, border_size=5):\n",
        "        # Crop out the borders by a fixed size\n",
        "        return image[border_size:-border_size, border_size:-border_size]\n",
        "    # Remove borders from the entire image\n",
        "    image = remove_borders(image, border_size=5)\n",
        "\n",
        "    image = cv2.cvtColor(image, cv2. COLOR_BGR2GRAY)\n",
        "\n",
        "    # binary thresholding\n",
        "    _, thresh = cv2.threshold(image, 128, 255, cv2.THRESH_BINARY_INV)\n",
        "    # Contour Detect\n",
        "    contours, _ = cv2.findContours(thresh, cv2.RETR_EXTERNAL, cv2.CHAIN_APPROX_SIMPLE)\n",
        "    # Contour sort\n",
        "    contours = sorted(contours, key=lambda ctr: cv2.boundingRect(ctr)[0])\n",
        "\n",
        "    digits = []\n",
        "\n",
        "    global num\n",
        "    global probability\n",
        "    global n\n",
        "    num = 0\n",
        "\n",
        "    for ctr in contours:\n",
        "        num = num*10\n",
        "        # bounding box contour\n",
        "        x, y, w, h = cv2.boundingRect(ctr)\n",
        "\n",
        "        padding = 5  # EXPERIMENTAL\n",
        "        x = max(x - padding, 0)\n",
        "        y = max(y - padding, 0)\n",
        "        w = min(w + 2 * padding, image.shape[1] - x)\n",
        "        h = min(h + 2 * padding, image.shape[0] - y)\n",
        "        # Digit Extract\n",
        "        digit = thresh[y:y+h, x:x+w]\n",
        "        # Resizing to model input size\n",
        "        resized_digit = cv2.resize(digit, (28, 28), interpolation=cv2.INTER_AREA)\n",
        "        # Normalization\n",
        "        digit = resized_digit / 255.0\n",
        "        r = model.predict(digit.reshape(1,28,28,1))\n",
        "\n",
        "        if np.max(r) < 0.95:\n",
        "\n",
        "            cv2_imshow(np.reshape((digit*255), (28,28,1)))\n",
        "            print(f\"Predicted:{np.argmax(r)} ({round(np.max(r)*100,2)})\")\n",
        "            print(\"Actual:\")\n",
        "            n = input()\n",
        "            if n == '':\n",
        "                pass\n",
        "                num = int(num/10)\n",
        "            else:\n",
        "              n = int(n)\n",
        "              digit = digit.reshape(1,28,28,1)\n",
        "              model.fit(digit, np.array([[n]]))\n",
        "              model.save('model.keras')\n",
        "              num = num + n\n",
        "        else:\n",
        "            num = num + np.argmax(r)\n",
        "            print(np.max(r))\n",
        "\n",
        "\n",
        "    return [num]"
      ],
      "metadata": {
        "id": "XPE0vCRDh1T-"
      },
      "id": "XPE0vCRDh1T-",
      "execution_count": null,
      "outputs": []
    },
    {
      "cell_type": "markdown",
      "id": "7f627e7c-a601-4838-9263-b24483d39c35",
      "metadata": {
        "id": "7f627e7c-a601-4838-9263-b24483d39c35"
      },
      "source": [
        "## OCR"
      ]
    },
    {
      "cell_type": "code",
      "execution_count": null,
      "id": "5d699a23-3c46-49ff-9b6e-bb6816159135",
      "metadata": {
        "id": "5d699a23-3c46-49ff-9b6e-bb6816159135"
      },
      "outputs": [],
      "source": [
        "def ocr_prediction(img_obj):\n",
        "    try:\n",
        "        results = reader.readtext(img_obj)\n",
        "        result_set = set()\n",
        "        if len(results) > 1:\n",
        "            for x in results[0][1]:\n",
        "                result_set.add(x)\n",
        "            for x in results[1][1]:\n",
        "                result_set.add(x)\n",
        "\n",
        "        if results:\n",
        "            return results\n",
        "        else:\n",
        "            return 'ERR'\n",
        "    except Exception as e:\n",
        "        return 'ERR'"
      ]
    },
    {
      "cell_type": "markdown",
      "source": [
        "## ALL PAGES\n",
        "Now for all pages, we cascadingly call all functions, in a for loop\n"
      ],
      "metadata": {
        "id": "jy-lqNZxgwcZ"
      },
      "id": "jy-lqNZxgwcZ"
    },
    {
      "cell_type": "code",
      "source": [
        "def read_pdf(pdf_path):\n",
        "    pdf_document = pymupdf.open(pdf_path)\n",
        "    global rows_written\n",
        "    rows_written = 0\n",
        "\n",
        "    if not os.path.exists('outputs'):\n",
        "        os.makedirs('outputs')\n",
        "\n",
        "\n",
        "    #Clearing any past file\n",
        "    with open('output.csv', mode='w') as file:\n",
        "      file.close()\n",
        "\n",
        "    for page_number in range(len(pdf_document)):\n",
        "        page = pdf_document.load_page(page_number)\n",
        "        # To image (using matrix transformation)\n",
        "        zoom = 2  # Adjust zoom level as needed\n",
        "        mat = pymupdf.Matrix(zoom, zoom)\n",
        "        pix = page.get_pixmap(matrix=mat, alpha=False)\n",
        "\n",
        "        # pixmap to PIL Image\n",
        "        img_bytes = pix.tobytes(\"ppm\")\n",
        "        image = PIL.Image.open(io.BytesIO(img_bytes))\n",
        "\n",
        "        image = np.array(image)\n",
        "\n",
        "        #return image\n",
        "\n",
        "        #instead lets read all pages\n",
        "\n",
        "        table = get_table(image, page_number)"
      ],
      "metadata": {
        "id": "e7nqG3BYg4JN"
      },
      "id": "e7nqG3BYg4JN",
      "execution_count": null,
      "outputs": []
    },
    {
      "cell_type": "code",
      "source": [
        "'''\n",
        "def get_table(image, page_number):\n",
        "    ## Filters\n",
        "    gray = cv2.cvtColor(image, cv2.COLOR_BGR2GRAY)\n",
        "    blurred = cv2.GaussianBlur(gray, (5, 5), 0)\n",
        "    edges = cv2.Canny(blurred, 50, 150)\n",
        "\n",
        "\n",
        "    ## Contour detection\n",
        "    contours, _ = cv2.findContours(edges.copy(), cv2.RETR_EXTERNAL, cv2.CHAIN_APPROX_SIMPLE)\n",
        "    contours = sorted(contours, key=cv2.contourArea, reverse=True)[:1]\n",
        "    table_contour = None\n",
        "    for contour in contours:\n",
        "        perimeter = cv2.arcLength(contour, True)\n",
        "        approx = cv2.approxPolyDP(contour, 0.02 * perimeter, True)\n",
        "\n",
        "        if len(approx) == 4:\n",
        "            table_contour = approx\n",
        "            break\n",
        "\n",
        "    if table_contour is not None:\n",
        "        # Get bounding box coordinates\n",
        "        x, y, w, h = cv2.boundingRect(table_contour)\n",
        "\n",
        "        # Crop the table region from the original image\n",
        "        table_image = image[y:y+h, x:x+w]\n",
        "        num_rows = 0\n",
        "\n",
        "        #return table_image\n",
        "        cv2_imshow(table_image)\n",
        "        extract_cells_to_csv(table_image, page_number)\n",
        "\n",
        "    else:\n",
        "        print(\"error\")\n",
        "'''\n",
        "\n",
        "def get_table(image, page_number):\n",
        "    gray = cv2.cvtColor(image, cv2.COLOR_BGR2GRAY)\n",
        "    blurred = cv2.GaussianBlur(gray, (5, 5), 0)\n",
        "    binary = cv2.adaptiveThreshold(blurred, 255, cv2.ADAPTIVE_THRESH_GAUSSIAN_C, cv2.THRESH_BINARY_INV, 11, 2)\n",
        "\n",
        "    contours, _ = cv2.findContours(binary, cv2.RETR_EXTERNAL, cv2.CHAIN_APPROX_SIMPLE)\n",
        "    max_contour = max(contours, key=cv2.contourArea)\n",
        "\n",
        "    epsilon = 0.02 * cv2.arcLength(max_contour, True)\n",
        "    approx = cv2.approxPolyDP(max_contour, epsilon, True)\n",
        "\n",
        "    if len(approx) == 4:\n",
        "        pts = approx.reshape(4, 2)\n",
        "        rect = np.zeros((4, 2), dtype=\"float32\")\n",
        "        s = pts.sum(axis=1)\n",
        "        rect[0] = pts[np.argmin(s)]\n",
        "        rect[2] = pts[np.argmax(s)]\n",
        "        diff = np.diff(pts, axis=1)\n",
        "        rect[1] = pts[np.argmin(diff)]\n",
        "        rect[3] = pts[np.argmax(diff)]\n",
        "\n",
        "        widthA = np.linalg.norm(rect[2] - rect[3])\n",
        "        widthB = np.linalg.norm(rect[1] - rect[0])\n",
        "        maxWidth = max(int(widthA), int(widthB))\n",
        "\n",
        "        heightA = np.linalg.norm(rect[1] - rect[2])\n",
        "        heightB = np.linalg.norm(rect[0] - rect[3])\n",
        "        maxHeight = max(int(heightA), int(heightB))\n",
        "\n",
        "        dst = np.array([\n",
        "            [0, 0],\n",
        "            [maxWidth - 1, 0],\n",
        "            [maxWidth - 1, maxHeight - 1],\n",
        "            [0, maxHeight - 1]\n",
        "        ], dtype=\"float32\")\n",
        "\n",
        "        M = cv2.getPerspectiveTransform(rect, dst)\n",
        "        warped = cv2.warpPerspective(image, M, (maxWidth, maxHeight))\n",
        "#        cv2_imshow(warped)\n",
        "        extract_cells_to_csv(warped, page_number)\n",
        "    else:\n",
        "        x, y, w, h = cv2.boundingRect(max_contour)\n",
        "        cropped = image[y:y+h, x:x+w]\n",
        "        extract_cells_to_csv(cropped, page_number)\n"
      ],
      "metadata": {
        "id": "gQVhZ7LehOUc"
      },
      "id": "gQVhZ7LehOUc",
      "execution_count": null,
      "outputs": []
    },
    {
      "cell_type": "markdown",
      "source": [
        "ADDING PROBABILITY BASED WARNING FOR CNN"
      ],
      "metadata": {
        "id": "wrc43fLghtQV"
      },
      "id": "wrc43fLghtQV"
    },
    {
      "cell_type": "code",
      "source": [
        "def extract_cells_to_csv(image, page_number):\n",
        "    # Load the image\n",
        "    height, width = image.shape[:2]\n",
        "\n",
        "    # Convert to grayscale\n",
        "    gray = cv2.cvtColor(image, cv2.COLOR_BGR2GRAY)\n",
        "\n",
        "    # Thresholding to get a binary image\n",
        "    _, binary = cv2.threshold(gray, 150, 255, cv2.THRESH_BINARY_INV)\n",
        "\n",
        "    # Find horizontal and vertical lines\n",
        "    horizontal_kernel = cv2.getStructuringElement(cv2.MORPH_RECT, (25, 1))\n",
        "    horizontal_lines = cv2.morphologyEx(binary, cv2.MORPH_OPEN, horizontal_kernel, iterations=2)\n",
        "\n",
        "    vertical_kernel = cv2.getStructuringElement(cv2.MORPH_RECT, (1, 25))\n",
        "    vertical_lines = cv2.morphologyEx(binary, cv2.MORPH_OPEN, vertical_kernel, iterations=2)\n",
        "\n",
        "    # Combine lines to get the grid\n",
        "    grid = cv2.add(horizontal_lines, vertical_lines)\n",
        "\n",
        "    # Find contours in the grid\n",
        "    contours, _ = cv2.findContours(grid, cv2.RETR_TREE, cv2.CHAIN_APPROX_SIMPLE)\n",
        "\n",
        "    # Filter out small contours and large contours (like the whole table)\n",
        "    filtered_contours = []\n",
        "    for contour in contours:\n",
        "        x, y, w, h = cv2.boundingRect(contour)\n",
        "        if w >= 10 and h >= 10 and not (w >= width * 0.7 or h >= height * 0.8):\n",
        "            filtered_contours.append((x, y, w, h))\n",
        "\n",
        "    # Sort contours primarily by y-coordinate (to form rows) and then by x-coordinate (to form columns)\n",
        "    filtered_contours.sort(key=lambda c: (c[1], c[0]))\n",
        "\n",
        "    # Group cells by row\n",
        "    rows = []\n",
        "    current_row = []\n",
        "    last_y = -1\n",
        "    height_threshold = 15  # Set a threshold for vertical spacing to determine row separation\n",
        "\n",
        "    for (x, y, w, h) in filtered_contours:\n",
        "        if last_y == -1 or abs(y - last_y) < height_threshold:  # If in the same row\n",
        "            current_row.append((x, y, w, h))\n",
        "        else:  # New row detected\n",
        "            if current_row:  # Append the previous row\n",
        "                rows.append(current_row)\n",
        "            current_row = [(x, y, w, h)]  # Start a new row\n",
        "\n",
        "        last_y = y\n",
        "\n",
        "    # Don't forget to add the last row\n",
        "    if current_row:\n",
        "        rows.append(current_row)\n",
        "\n",
        "    file = open('output.csv', 'a')\n",
        "\n",
        "    # Display each row's cells together\n",
        "    for row in rows:\n",
        "        # Sort cells in the current row by x-coordinate for display order\n",
        "        row_sorted = sorted(row, key=lambda c: c[0])\n",
        "        for (x, y, w, h) in row_sorted:\n",
        "            cell_img = image[y:y+h, x:x+w]\n",
        "            #cv2_imshow(cell_img)\n",
        "            #cv2.waitKey(1000)  # Wait for 1 second to show each cell\n",
        "\n",
        "            # For last column\n",
        "            if x > max(row_sorted, key=lambda c: c[0])[0]*0.9 and y*0.9 > min(min(row, key=lambda c: c[1])[1] for row in rows) :\n",
        "              file.write(str(hand_prediction(cell_img)[0]))\n",
        "\n",
        "            #Header row\n",
        "            elif (page_number != 0 and y*0.9 < min(min(row, key=lambda c: c[1])[1] for row in rows) ):\n",
        "              pass\n",
        "\n",
        "            #Other cols\n",
        "            else:\n",
        "              try:\n",
        "                strr = ocr_prediction(cell_img)[0][1]\n",
        "                if ',' in strr:\n",
        "                  strr = strr.replace(',',\"\")\n",
        "                file.write(strr)\n",
        "              except Exception:\n",
        "                scale_factor = 2\n",
        "                upscaled = cv2.resize(cell_img, None, fx=scale_factor, fy=scale_factor, interpolation=cv2.INTER_LINEAR)\n",
        "                try:\n",
        "                  strr = ocr_prediction(upscaled)[0][1]\n",
        "                  if ',' in strr:\n",
        "                    strr = strr.replace(',',\"\")\n",
        "                  file.write(strr)\n",
        "                except Exception:\n",
        "                  try:\n",
        "                    scale_factor = 4\n",
        "                    upscaled = cv2.resize(cell_img, None, fx=scale_factor, fy=scale_factor, interpolation=cv2.INTER_LINEAR)\n",
        "                    blur = cv2.blur(upscaled, (5, 5))\n",
        "                    strr = ocr_prediction(blur)[0][1]\n",
        "                    if ',' in strr:\n",
        "                      strr = strr.replace(',',\"\")\n",
        "                    file.write(strr)\n",
        "                  except Exception:\n",
        "                    file.write(\"ERor\")\n",
        "\n",
        "              if x < max(row_sorted, key=lambda c: c[0])[0]*0.9:\n",
        "                file.write(',')\n",
        "\n",
        "        if not (page_number != 0 and y*0.9 < min(min(row, key=lambda c: c[1])[1] for row in rows)):\n",
        "          file.write(\"\\n\")"
      ],
      "metadata": {
        "id": "4PPbFtaSNR55"
      },
      "id": "4PPbFtaSNR55",
      "execution_count": null,
      "outputs": []
    },
    {
      "cell_type": "code",
      "source": [
        "read_pdf(\"pdf1.pdf\")"
      ],
      "metadata": {
        "collapsed": true,
        "id": "_VOq9bn6i009",
        "colab": {
          "base_uri": "https://localhost:8080/",
          "height": 1000
        },
        "outputId": "05e628ea-e303-4e8e-90d3-25ceb2887455"
      },
      "id": "_VOq9bn6i009",
      "execution_count": null,
      "outputs": [
        {
          "output_type": "stream",
          "name": "stdout",
          "text": [
            "\u001b[1m1/1\u001b[0m \u001b[32m━━━━━━━━━━━━━━━━━━━━\u001b[0m\u001b[37m\u001b[0m \u001b[1m0s\u001b[0m 16ms/step\n"
          ]
        },
        {
          "output_type": "display_data",
          "data": {
            "text/plain": [
              "<PIL.Image.Image image mode=RGB size=28x28>"
            ],
            "image/png": "[encoded data removed]",
            "image/jpeg": "[encoded data removed]"
          },
          "metadata": {}
        },
        {
          "output_type": "stream",
          "name": "stdout",
          "text": [
            "Predicted:1 (94.23)\n",
            "Actual:\n",
            "1\n",
            "\u001b[1m1/1\u001b[0m \u001b[32m━━━━━━━━━━━━━━━━━━━━\u001b[0m\u001b[37m\u001b[0m \u001b[1m0s\u001b[0m 36ms/step - accuracy: 1.0000 - loss: 0.0594\n",
            "\u001b[1m1/1\u001b[0m \u001b[32m━━━━━━━━━━━━━━━━━━━━\u001b[0m\u001b[37m\u001b[0m \u001b[1m0s\u001b[0m 30ms/step\n"
          ]
        },
        {
          "output_type": "display_data",
          "data": {
            "text/plain": [
              "<PIL.Image.Image image mode=RGB size=28x28>"
            ],
            "image/png": "[encoded data removed]",
            "image/jpeg": "[encoded data removed]"
          },
          "metadata": {}
        },
        {
          "output_type": "stream",
          "name": "stdout",
          "text": [
            "Predicted:2 (88.62)\n",
            "Actual:\n",
            "2\n",
            "\u001b[1m1/1\u001b[0m \u001b[32m━━━━━━━━━━━━━━━━━━━━\u001b[0m\u001b[37m\u001b[0m \u001b[1m0s\u001b[0m 23ms/step - accuracy: 1.0000 - loss: 0.1208\n",
            "\u001b[1m1/1\u001b[0m \u001b[32m━━━━━━━━━━━━━━━━━━━━\u001b[0m\u001b[37m\u001b[0m \u001b[1m0s\u001b[0m 17ms/step\n"
          ]
        },
        {
          "output_type": "display_data",
          "data": {
            "text/plain": [
              "<PIL.Image.Image image mode=RGB size=28x28>"
            ],
            "image/png": "[encoded data removed]",
            "image/jpeg": "[encoded data removed]"
          },
          "metadata": {}
        },
        {
          "output_type": "stream",
          "name": "stdout",
          "text": [
            "Predicted:2 (69.6)\n",
            "Actual:\n",
            "\n",
            "\u001b[1m1/1\u001b[0m \u001b[32m━━━━━━━━━━━━━━━━━━━━\u001b[0m\u001b[37m\u001b[0m \u001b[1m0s\u001b[0m 16ms/step\n"
          ]
        },
        {
          "output_type": "display_data",
          "data": {
            "text/plain": [
              "<PIL.Image.Image image mode=RGB size=28x28>"
            ],
            "image/png": "[encoded data removed]",
            "image/jpeg": "[encoded data removed]"
          },
          "metadata": {}
        },
        {
          "output_type": "stream",
          "name": "stdout",
          "text": [
            "Predicted:2 (89.9)\n",
            "Actual:\n",
            "\n",
            "\u001b[1m1/1\u001b[0m \u001b[32m━━━━━━━━━━━━━━━━━━━━\u001b[0m\u001b[37m\u001b[0m \u001b[1m0s\u001b[0m 17ms/step\n",
            "0.99960315\n",
            "\u001b[1m1/1\u001b[0m \u001b[32m━━━━━━━━━━━━━━━━━━━━\u001b[0m\u001b[37m\u001b[0m \u001b[1m0s\u001b[0m 17ms/step\n",
            "0.987693\n",
            "\u001b[1m1/1\u001b[0m \u001b[32m━━━━━━━━━━━━━━━━━━━━\u001b[0m\u001b[37m\u001b[0m \u001b[1m0s\u001b[0m 20ms/step\n",
            "0.98197836\n",
            "\u001b[1m1/1\u001b[0m \u001b[32m━━━━━━━━━━━━━━━━━━━━\u001b[0m\u001b[37m\u001b[0m \u001b[1m0s\u001b[0m 16ms/step\n"
          ]
        },
        {
          "output_type": "display_data",
          "data": {
            "text/plain": [
              "<PIL.Image.Image image mode=RGB size=28x28>"
            ],
            "image/png": "[encoded data removed]",
            "image/jpeg": "[encoded data removed]"
          },
          "metadata": {}
        },
        {
          "output_type": "stream",
          "name": "stdout",
          "text": [
            "Predicted:4 (86.0)\n",
            "Actual:\n",
            "4\n",
            "\u001b[1m1/1\u001b[0m \u001b[32m━━━━━━━━━━━━━━━━━━━━\u001b[0m\u001b[37m\u001b[0m \u001b[1m0s\u001b[0m 24ms/step - accuracy: 1.0000 - loss: 0.1508\n",
            "\u001b[1m1/1\u001b[0m \u001b[32m━━━━━━━━━━━━━━━━━━━━\u001b[0m\u001b[37m\u001b[0m \u001b[1m0s\u001b[0m 17ms/step\n",
            "0.99237275\n",
            "\u001b[1m1/1\u001b[0m \u001b[32m━━━━━━━━━━━━━━━━━━━━\u001b[0m\u001b[37m\u001b[0m \u001b[1m0s\u001b[0m 23ms/step\n"
          ]
        },
        {
          "output_type": "display_data",
          "data": {
            "text/plain": [
              "<PIL.Image.Image image mode=RGB size=28x28>"
            ],
            "image/png": "[encoded data removed]",
            "image/jpeg": "[encoded data removed]"
          },
          "metadata": {}
        },
        {
          "output_type": "stream",
          "name": "stdout",
          "text": [
            "Predicted:1 (51.5)\n",
            "Actual:\n",
            "\n",
            "\u001b[1m1/1\u001b[0m \u001b[32m━━━━━━━━━━━━━━━━━━━━\u001b[0m\u001b[37m\u001b[0m \u001b[1m0s\u001b[0m 18ms/step\n"
          ]
        },
        {
          "output_type": "display_data",
          "data": {
            "text/plain": [
              "<PIL.Image.Image image mode=RGB size=28x28>"
            ],
            "image/png": "[encoded data removed]",
            "image/jpeg": "[encoded data removed]"
          },
          "metadata": {}
        },
        {
          "output_type": "stream",
          "name": "stdout",
          "text": [
            "Predicted:7 (79.06)\n",
            "Actual:\n",
            "7\n",
            "\u001b[1m1/1\u001b[0m \u001b[32m━━━━━━━━━━━━━━━━━━━━\u001b[0m\u001b[37m\u001b[0m \u001b[1m0s\u001b[0m 22ms/step - accuracy: 1.0000 - loss: 0.2350\n",
            "\u001b[1m1/1\u001b[0m \u001b[32m━━━━━━━━━━━━━━━━━━━━\u001b[0m\u001b[37m\u001b[0m \u001b[1m0s\u001b[0m 16ms/step\n"
          ]
        },
        {
          "output_type": "display_data",
          "data": {
            "text/plain": [
              "<PIL.Image.Image image mode=RGB size=28x28>"
            ],
            "image/png": "[encoded data removed]",
            "image/jpeg": "[encoded data removed]"
          },
          "metadata": {}
        },
        {
          "output_type": "stream",
          "name": "stdout",
          "text": [
            "Predicted:2 (63.95)\n",
            "Actual:\n",
            "2\n",
            "\u001b[1m1/1\u001b[0m \u001b[32m━━━━━━━━━━━━━━━━━━━━\u001b[0m\u001b[37m\u001b[0m \u001b[1m0s\u001b[0m 21ms/step - accuracy: 1.0000 - loss: 0.4470\n",
            "\u001b[1m1/1\u001b[0m \u001b[32m━━━━━━━━━━━━━━━━━━━━\u001b[0m\u001b[37m\u001b[0m \u001b[1m0s\u001b[0m 16ms/step\n"
          ]
        },
        {
          "output_type": "display_data",
          "data": {
            "text/plain": [
              "<PIL.Image.Image image mode=RGB size=28x28>"
            ],
            "image/png": "[encoded data removed]",
            "image/jpeg": "[encoded data removed]"
          },
          "metadata": {}
        },
        {
          "output_type": "stream",
          "name": "stdout",
          "text": [
            "Predicted:2 (51.74)\n",
            "Actual:\n",
            "\n",
            "\u001b[1m1/1\u001b[0m \u001b[32m━━━━━━━━━━━━━━━━━━━━\u001b[0m\u001b[37m\u001b[0m \u001b[1m0s\u001b[0m 30ms/step\n"
          ]
        },
        {
          "output_type": "display_data",
          "data": {
            "text/plain": [
              "<PIL.Image.Image image mode=RGB size=28x28>"
            ],
            "image/png": "[encoded data removed]",
            "image/jpeg": "[encoded data removed]"
          },
          "metadata": {}
        },
        {
          "output_type": "stream",
          "name": "stdout",
          "text": [
            "Predicted:3 (92.12)\n",
            "Actual:\n",
            "\n",
            "\u001b[1m1/1\u001b[0m \u001b[32m━━━━━━━━━━━━━━━━━━━━\u001b[0m\u001b[37m\u001b[0m \u001b[1m0s\u001b[0m 19ms/step\n"
          ]
        },
        {
          "output_type": "display_data",
          "data": {
            "text/plain": [
              "<PIL.Image.Image image mode=RGB size=28x28>"
            ],
            "image/png": "[encoded data removed]",
            "image/jpeg": "[encoded data removed]"
          },
          "metadata": {}
        },
        {
          "output_type": "stream",
          "name": "stdout",
          "text": [
            "Predicted:7 (86.87)\n",
            "Actual:\n",
            "2\n",
            "\u001b[1m1/1\u001b[0m \u001b[32m━━━━━━━━━━━━━━━━━━━━\u001b[0m\u001b[37m\u001b[0m \u001b[1m0s\u001b[0m 21ms/step - accuracy: 0.0000e+00 - loss: 2.9525\n",
            "\u001b[1m1/1\u001b[0m \u001b[32m━━━━━━━━━━━━━━━━━━━━\u001b[0m\u001b[37m\u001b[0m \u001b[1m0s\u001b[0m 16ms/step\n",
            "0.98713833\n",
            "\u001b[1m1/1\u001b[0m \u001b[32m━━━━━━━━━━━━━━━━━━━━\u001b[0m\u001b[37m\u001b[0m \u001b[1m0s\u001b[0m 15ms/step\n"
          ]
        },
        {
          "output_type": "display_data",
          "data": {
            "text/plain": [
              "<PIL.Image.Image image mode=RGB size=28x28>"
            ],
            "image/png": "[encoded data removed]",
            "image/jpeg": "[encoded data removed]"
          },
          "metadata": {}
        },
        {
          "output_type": "stream",
          "name": "stdout",
          "text": [
            "Predicted:2 (34.24)\n",
            "Actual:\n",
            "\n",
            "\u001b[1m1/1\u001b[0m \u001b[32m━━━━━━━━━━━━━━━━━━━━\u001b[0m\u001b[37m\u001b[0m \u001b[1m0s\u001b[0m 15ms/step\n"
          ]
        },
        {
          "output_type": "display_data",
          "data": {
            "text/plain": [
              "<PIL.Image.Image image mode=RGB size=28x28>"
            ],
            "image/png": "[encoded data removed]",
            "image/jpeg": "[encoded data removed]"
          },
          "metadata": {}
        },
        {
          "output_type": "stream",
          "name": "stdout",
          "text": [
            "Predicted:6 (62.16)\n",
            "Actual:\n",
            "6\n",
            "\u001b[1m1/1\u001b[0m \u001b[32m━━━━━━━━━━━━━━━━━━━━\u001b[0m\u001b[37m\u001b[0m \u001b[1m0s\u001b[0m 22ms/step - accuracy: 1.0000 - loss: 0.4755\n",
            "\u001b[1m1/1\u001b[0m \u001b[32m━━━━━━━━━━━━━━━━━━━━\u001b[0m\u001b[37m\u001b[0m \u001b[1m0s\u001b[0m 16ms/step\n"
          ]
        },
        {
          "output_type": "display_data",
          "data": {
            "text/plain": [
              "<PIL.Image.Image image mode=RGB size=28x28>"
            ],
            "image/png": "[encoded data removed]",
            "image/jpeg": "[encoded data removed]"
          },
          "metadata": {}
        },
        {
          "output_type": "stream",
          "name": "stdout",
          "text": [
            "Predicted:2 (61.11)\n",
            "Actual:\n",
            "\n",
            "\u001b[1m1/1\u001b[0m \u001b[32m━━━━━━━━━━━━━━━━━━━━\u001b[0m\u001b[37m\u001b[0m \u001b[1m0s\u001b[0m 18ms/step\n"
          ]
        },
        {
          "output_type": "display_data",
          "data": {
            "text/plain": [
              "<PIL.Image.Image image mode=RGB size=28x28>"
            ],
            "image/png": "[encoded data removed]",
            "image/jpeg": "[encoded data removed]"
          },
          "metadata": {}
        },
        {
          "output_type": "stream",
          "name": "stdout",
          "text": [
            "Predicted:7 (53.27)\n",
            "Actual:\n",
            "\n",
            "\u001b[1m1/1\u001b[0m \u001b[32m━━━━━━━━━━━━━━━━━━━━\u001b[0m\u001b[37m\u001b[0m \u001b[1m0s\u001b[0m 19ms/step\n"
          ]
        },
        {
          "output_type": "display_data",
          "data": {
            "text/plain": [
              "<PIL.Image.Image image mode=RGB size=28x28>"
            ],
            "image/png": "[encoded data removed]",
            "image/jpeg": "[encoded data removed]"
          },
          "metadata": {}
        },
        {
          "output_type": "stream",
          "name": "stdout",
          "text": [
            "Predicted:2 (26.67)\n",
            "Actual:\n",
            "\n",
            "\u001b[1m1/1\u001b[0m \u001b[32m━━━━━━━━━━━━━━━━━━━━\u001b[0m\u001b[37m\u001b[0m \u001b[1m0s\u001b[0m 16ms/step\n"
          ]
        },
        {
          "output_type": "display_data",
          "data": {
            "text/plain": [
              "<PIL.Image.Image image mode=RGB size=28x28>"
            ],
            "image/png": "[encoded data removed]",
            "image/jpeg": "[encoded data removed]"
          },
          "metadata": {}
        },
        {
          "output_type": "stream",
          "name": "stdout",
          "text": [
            "Predicted:7 (82.79)\n",
            "Actual:\n",
            "\n",
            "\u001b[1m1/1\u001b[0m \u001b[32m━━━━━━━━━━━━━━━━━━━━\u001b[0m\u001b[37m\u001b[0m \u001b[1m0s\u001b[0m 16ms/step\n"
          ]
        },
        {
          "output_type": "display_data",
          "data": {
            "text/plain": [
              "<PIL.Image.Image image mode=RGB size=28x28>"
            ],
            "image/png": "[encoded data removed]",
            "image/jpeg": "[encoded data removed]"
          },
          "metadata": {}
        },
        {
          "output_type": "stream",
          "name": "stdout",
          "text": [
            "Predicted:3 (39.44)\n",
            "Actual:\n",
            "\n",
            "\u001b[1m1/1\u001b[0m \u001b[32m━━━━━━━━━━━━━━━━━━━━\u001b[0m\u001b[37m\u001b[0m \u001b[1m0s\u001b[0m 18ms/step\n"
          ]
        },
        {
          "output_type": "display_data",
          "data": {
            "text/plain": [
              "<PIL.Image.Image image mode=RGB size=28x28>"
            ],
            "image/png": "[encoded data removed]",
            "image/jpeg": "[encoded data removed]"
          },
          "metadata": {}
        },
        {
          "output_type": "stream",
          "name": "stdout",
          "text": [
            "Predicted:4 (53.95)\n",
            "Actual:\n",
            "\n",
            "\u001b[1m1/1\u001b[0m \u001b[32m━━━━━━━━━━━━━━━━━━━━\u001b[0m\u001b[37m\u001b[0m \u001b[1m0s\u001b[0m 17ms/step\n"
          ]
        },
        {
          "output_type": "display_data",
          "data": {
            "text/plain": [
              "<PIL.Image.Image image mode=RGB size=28x28>"
            ],
            "image/png": "[encoded data removed]",
            "image/jpeg": "[encoded data removed]"
          },
          "metadata": {}
        },
        {
          "output_type": "stream",
          "name": "stdout",
          "text": [
            "Predicted:2 (40.43)\n",
            "Actual:\n",
            "\n",
            "\u001b[1m1/1\u001b[0m \u001b[32m━━━━━━━━━━━━━━━━━━━━\u001b[0m\u001b[37m\u001b[0m \u001b[1m0s\u001b[0m 17ms/step\n",
            "0.979095\n",
            "\u001b[1m1/1\u001b[0m \u001b[32m━━━━━━━━━━━━━━━━━━━━\u001b[0m\u001b[37m\u001b[0m \u001b[1m0s\u001b[0m 15ms/step\n"
          ]
        },
        {
          "output_type": "display_data",
          "data": {
            "text/plain": [
              "<PIL.Image.Image image mode=RGB size=28x28>"
            ],
            "image/png": "[encoded data removed]",
            "image/jpeg": "[encoded data removed]"
          },
          "metadata": {}
        },
        {
          "output_type": "stream",
          "name": "stdout",
          "text": [
            "Predicted:2 (76.54)\n",
            "Actual:\n",
            "\n",
            "\u001b[1m1/1\u001b[0m \u001b[32m━━━━━━━━━━━━━━━━━━━━\u001b[0m\u001b[37m\u001b[0m \u001b[1m0s\u001b[0m 16ms/step\n",
            "0.99888223\n",
            "\u001b[1m1/1\u001b[0m \u001b[32m━━━━━━━━━━━━━━━━━━━━\u001b[0m\u001b[37m\u001b[0m \u001b[1m0s\u001b[0m 16ms/step\n"
          ]
        },
        {
          "output_type": "display_data",
          "data": {
            "text/plain": [
              "<PIL.Image.Image image mode=RGB size=28x28>"
            ],
            "image/png": "[encoded data removed]",
            "image/jpeg": "[encoded data removed]"
          },
          "metadata": {}
        },
        {
          "output_type": "stream",
          "name": "stdout",
          "text": [
            "Predicted:6 (92.28)\n",
            "Actual:\n",
            "6\n",
            "\u001b[1m1/1\u001b[0m \u001b[32m━━━━━━━━━━━━━━━━━━━━\u001b[0m\u001b[37m\u001b[0m \u001b[1m0s\u001b[0m 29ms/step - accuracy: 1.0000 - loss: 0.0803\n",
            "\u001b[1m1/1\u001b[0m \u001b[32m━━━━━━━━━━━━━━━━━━━━\u001b[0m\u001b[37m\u001b[0m \u001b[1m0s\u001b[0m 24ms/step\n"
          ]
        },
        {
          "output_type": "display_data",
          "data": {
            "text/plain": [
              "<PIL.Image.Image image mode=RGB size=28x28>"
            ],
            "image/png": "[encoded data removed]",
            "image/jpeg": "[encoded data removed]"
          },
          "metadata": {}
        },
        {
          "output_type": "stream",
          "name": "stdout",
          "text": [
            "Predicted:8 (82.45)\n",
            "Actual:\n",
            "8\n",
            "\u001b[1m1/1\u001b[0m \u001b[32m━━━━━━━━━━━━━━━━━━━━\u001b[0m\u001b[37m\u001b[0m \u001b[1m0s\u001b[0m 23ms/step - accuracy: 1.0000 - loss: 0.1929\n",
            "\u001b[1m1/1\u001b[0m \u001b[32m━━━━━━━━━━━━━━━━━━━━\u001b[0m\u001b[37m\u001b[0m \u001b[1m0s\u001b[0m 17ms/step\n"
          ]
        },
        {
          "output_type": "display_data",
          "data": {
            "text/plain": [
              "<PIL.Image.Image image mode=RGB size=28x28>"
            ],
            "image/png": "[encoded data removed]",
            "image/jpeg": "[encoded data removed]"
          },
          "metadata": {}
        },
        {
          "output_type": "stream",
          "name": "stdout",
          "text": [
            "Predicted:2 (46.74)\n",
            "Actual:\n",
            "\n",
            "\u001b[1m1/1\u001b[0m \u001b[32m━━━━━━━━━━━━━━━━━━━━\u001b[0m\u001b[37m\u001b[0m \u001b[1m0s\u001b[0m 17ms/step\n",
            "0.9730664\n",
            "\u001b[1m1/1\u001b[0m \u001b[32m━━━━━━━━━━━━━━━━━━━━\u001b[0m\u001b[37m\u001b[0m \u001b[1m0s\u001b[0m 19ms/step\n",
            "0.9932974\n"
          ]
        }
      ]
    }
  ],
  "metadata": {
    "kernelspec": {
      "display_name": "Python 3",
      "name": "python3"
    },
    "language_info": {
      "codemirror_mode": {
        "name": "ipython",
        "version": 3
      },
      "file_extension": ".py",
      "mimetype": "text/x-python",
      "name": "python",
      "nbconvert_exporter": "python",
      "pygments_lexer": "ipython3",
      "version": "3.12.4"
    },
    "colab": {
      "provenance": [],
      "gpuType": "T4",
      "include_colab_link": true
    },
    "accelerator": "GPU"
  },
  "nbformat": 4,
  "nbformat_minor": 5
}