{
 "cells": [
  {
   "cell_type": "markdown",
   "id": "92c5e946-4b03-4d6c-853b-ce691a212b10",
   "metadata": {},
   "source": [
    "# Handwritten Number Recognition (CNN)"
   ]
  },
  {
   "cell_type": "code",
   "execution_count": 363,
   "id": "d4250ff4-9955-400a-a1b4-06c26adf507f",
   "metadata": {},
   "outputs": [],
   "source": [
    "import numpy as np\n",
    "import random\n",
    "import cv2\n",
    "from matplotlib import pyplot as plt\n",
    "from tensorflow.keras.models import Sequential\n",
    "from tensorflow.keras.preprocessing.image import ImageDataGenerator\n",
    "from tensorflow.keras.preprocessing import image\n",
    "from tensorflow.keras.datasets import mnist\n",
    "from tensorflow.keras.layers import Conv2D, MaxPooling2D, Dense, Flatten"
   ]
  },
  {
   "cell_type": "markdown",
   "id": "eec83ebe-38a8-4b2a-85cf-af46a955a0b8",
   "metadata": {},
   "source": [
    "## Importing Data"
   ]
  },
  {
   "cell_type": "code",
   "execution_count": 364,
   "id": "49a62500-4c90-45e7-a242-99c69a7a2305",
   "metadata": {},
   "outputs": [],
   "source": [
    "(x_train, y_train) ,(x_test, y_test) = mnist.load_data()"
   ]
  },
  {
   "cell_type": "code",
   "execution_count": 365,
   "id": "02144f8f-cdf5-4d3e-92ab-b292b8199839",
   "metadata": {},
   "outputs": [
    {
     "name": "stdout",
     "output_type": "stream",
     "text": [
      "(60000, 28, 28)\n",
      "(60000,)\n",
      "(10000, 28, 28)\n",
      "(10000,)\n"
     ]
    }
   ],
   "source": [
    "print(\n",
    "np.shape(x_train),\n",
    "np.shape(y_train),\n",
    "np.shape(x_test),\n",
    "np.shape(y_test), sep = '\\n'\n",
    "    )"
   ]
  },
  {
   "cell_type": "markdown",
   "id": "8d1eed36-eae9-4b84-8fc3-7e5c59c8e6ed",
   "metadata": {},
   "source": [
    "### Preprocessing Data"
   ]
  },
  {
   "cell_type": "code",
   "execution_count": 366,
   "id": "2909fa11-7e2e-4fe5-be6f-913be1c21fa5",
   "metadata": {},
   "outputs": [],
   "source": [
    "x_train = x_train.reshape(len(x_train), 28, 28, 1)\n",
    "y_train = y_train.reshape(len(y_train), 1)\n",
    "x_test = x_test.reshape(len(x_test), 28, 28, 1)\n",
    "y_test = y_test.reshape(len(y_test), 1)"
   ]
  },
  {
   "cell_type": "code",
   "execution_count": 367,
   "id": "6a64202c-3f97-4541-bfec-12807f5d3525",
   "metadata": {},
   "outputs": [
    {
     "name": "stdout",
     "output_type": "stream",
     "text": [
      "(60000, 28, 28, 1)\n",
      "(60000, 1)\n",
      "(10000, 28, 28, 1)\n",
      "(10000, 1)\n"
     ]
    }
   ],
   "source": [
    "print(\n",
    "np.shape(x_train),\n",
    "np.shape(y_train),\n",
    "np.shape(x_test),\n",
    "np.shape(y_test), sep = '\\n'\n",
    "    )"
   ]
  },
  {
   "cell_type": "markdown",
   "id": "b53804de-c773-43ea-94d9-84f4211289c0",
   "metadata": {},
   "source": [
    "### Normalization"
   ]
  },
  {
   "cell_type": "code",
   "execution_count": 368,
   "id": "f389319e-378d-413d-a89d-5a4fe77873a1",
   "metadata": {},
   "outputs": [],
   "source": [
    "x_train, x_test = x_train/255.0, x_test/255.0"
   ]
  },
  {
   "cell_type": "markdown",
   "id": "d32f615f-ea26-4889-bf02-1671f17651e7",
   "metadata": {},
   "source": [
    "### Image test"
   ]
  },
  {
   "cell_type": "code",
   "execution_count": 369,
   "id": "4344d78a-0d52-460f-ad5e-a319a1c1d751",
   "metadata": {},
   "outputs": [
    {
     "data": {
      "image/jpeg": "[encoded data removed]",
      "image/png": "[encoded data removed]",
      "text/plain": [
       "<PIL.Image.Image image mode=RGB size=137x137>"
      ]
     },
     "execution_count": 369,
     "metadata": {},
     "output_type": "execute_result"
    }
   ],
   "source": [
    "img = image.load_img('three.png')\n",
    "img"
   ]
  },
  {
   "cell_type": "code",
   "execution_count": 370,
   "id": "ab642860-d2e2-4601-b9af-f5c846f226dc",
   "metadata": {},
   "outputs": [
    {
     "data": {
      "text/plain": [
       "(137, 137, 3)"
      ]
     },
     "execution_count": 370,
     "metadata": {},
     "output_type": "execute_result"
    }
   ],
   "source": [
    "cv2.imread('three.png').shape"
   ]
  },
  {
   "cell_type": "code",
   "execution_count": 371,
   "id": "2ad17ffb-5691-4866-b5c3-918d365d6c07",
   "metadata": {},
   "outputs": [
    {
     "data": {
      "text/plain": [
       "<matplotlib.image.AxesImage at 0x2714ec7b170>"
      ]
     },
     "execution_count": 371,
     "metadata": {},
     "output_type": "execute_result"
    },
    {
     "data": {
      "image/png": "[encoded data removed]",
      "text/plain": [
       "<Figure size 640x480 with 1 Axes>"
      ]
     },
     "metadata": {},
     "output_type": "display_data"
    }
   ],
   "source": [
    "plt.imshow(x_train[21])"
   ]
  },
  {
   "cell_type": "markdown",
   "id": "6687c7b1-f076-4dea-bfe3-11ebf7902225",
   "metadata": {},
   "source": [
    "## Building Model"
   ]
  },
  {
   "cell_type": "code",
   "execution_count": 372,
   "id": "b04c202f-7bc9-4653-af6b-7abcee5f5703",
   "metadata": {},
   "outputs": [],
   "source": [
    "model = Sequential()"
   ]
  },
  {
   "cell_type": "code",
   "execution_count": 373,
   "id": "029a0afb-7db4-4035-84d3-0c4200fd4fb7",
   "metadata": {},
   "outputs": [],
   "source": [
    "model.add(Conv2D(32, (3,3), activation='relu', input_shape = (28,28,1)))\n",
    "model.add(MaxPooling2D(2,2))\n",
    "\n",
    "model.add(Conv2D(32, (3,3), activation='relu'))\n",
    "model.add(MaxPooling2D(2,2))\n",
    "\n",
    "model.add(Flatten())\n",
    "model.add(Dense(64, activation='relu'))\n",
    "model.add(Dense(10, activation = 'softmax'))"
   ]
  },
  {
   "cell_type": "code",
   "execution_count": 374,
   "id": "da35f34b-f38f-438d-93c4-0876207d8ff7",
   "metadata": {},
   "outputs": [],
   "source": [
    "model.compile(loss = 'sparse_categorical_crossentropy' , optimizer = 'adam', metrics = ['accuracy'])"
   ]
  },
  {
   "cell_type": "markdown",
   "id": "b62b03d1-9e4c-402f-b232-ede03ce0c73a",
   "metadata": {},
   "source": [
    "## Training"
   ]
  },
  {
   "cell_type": "code",
   "execution_count": 375,
   "id": "e46ae91e-8238-4d90-bdb3-c787aa6d979f",
   "metadata": {},
   "outputs": [
    {
     "name": "stdout",
     "output_type": "stream",
     "text": [
      "Epoch 1/7\n",
      "\u001b[1m1875/1875\u001b[0m \u001b[32m━━━━━━━━━━━━━━━━━━━━\u001b[0m\u001b[37m\u001b[0m \u001b[1m9s\u001b[0m 4ms/step - accuracy: 0.8881 - loss: 0.3550\n",
      "Epoch 2/7\n",
      "\u001b[1m1875/1875\u001b[0m \u001b[32m━━━━━━━━━━━━━━━━━━━━\u001b[0m\u001b[37m\u001b[0m \u001b[1m8s\u001b[0m 4ms/step - accuracy: 0.9833 - loss: 0.0560\n",
      "Epoch 3/7\n",
      "\u001b[1m1875/1875\u001b[0m \u001b[32m━━━━━━━━━━━━━━━━━━━━\u001b[0m\u001b[37m\u001b[0m \u001b[1m7s\u001b[0m 4ms/step - accuracy: 0.9885 - loss: 0.0340\n",
      "Epoch 4/7\n",
      "\u001b[1m1875/1875\u001b[0m \u001b[32m━━━━━━━━━━━━━━━━━━━━\u001b[0m\u001b[37m\u001b[0m \u001b[1m7s\u001b[0m 4ms/step - accuracy: 0.9910 - loss: 0.0280\n",
      "Epoch 5/7\n",
      "\u001b[1m1875/1875\u001b[0m \u001b[32m━━━━━━━━━━━━━━━━━━━━\u001b[0m\u001b[37m\u001b[0m \u001b[1m7s\u001b[0m 4ms/step - accuracy: 0.9928 - loss: 0.0208\n",
      "Epoch 6/7\n",
      "\u001b[1m1875/1875\u001b[0m \u001b[32m━━━━━━━━━━━━━━━━━━━━\u001b[0m\u001b[37m\u001b[0m \u001b[1m7s\u001b[0m 4ms/step - accuracy: 0.9954 - loss: 0.0153\n",
      "Epoch 7/7\n",
      "\u001b[1m1875/1875\u001b[0m \u001b[32m━━━━━━━━━━━━━━━━━━━━\u001b[0m\u001b[37m\u001b[0m \u001b[1m7s\u001b[0m 4ms/step - accuracy: 0.9961 - loss: 0.0122\n"
     ]
    },
    {
     "data": {
      "text/plain": [
       "<keras.src.callbacks.history.History at 0x2714ec352e0>"
      ]
     },
     "execution_count": 375,
     "metadata": {},
     "output_type": "execute_result"
    }
   ],
   "source": [
    "model.fit(x = x_train, y = y_train, epochs = 7)"
   ]
  },
  {
   "cell_type": "markdown",
   "id": "ab308e66-bbad-44cd-9472-025dabe56934",
   "metadata": {},
   "source": [
    "## Testing"
   ]
  },
  {
   "cell_type": "code",
   "execution_count": 376,
   "id": "3b5aadd7-6104-44a1-bc60-edaae8e02ae6",
   "metadata": {},
   "outputs": [
    {
     "name": "stdout",
     "output_type": "stream",
     "text": [
      "\u001b[1m313/313\u001b[0m \u001b[32m━━━━━━━━━━━━━━━━━━━━\u001b[0m\u001b[37m\u001b[0m \u001b[1m1s\u001b[0m 2ms/step - accuracy: 0.9869 - loss: 0.0492\n"
     ]
    },
    {
     "data": {
      "text/plain": [
       "[0.036586515605449677, 0.9901000261306763]"
      ]
     },
     "execution_count": 376,
     "metadata": {},
     "output_type": "execute_result"
    }
   ],
   "source": [
    "model.evaluate(x_test, y_test)"
   ]
  },
  {
   "cell_type": "code",
   "execution_count": 377,
   "id": "2354ea77-c56d-4c4f-97b1-c14c78f6cc06",
   "metadata": {},
   "outputs": [],
   "source": [
    "def predict(x):\n",
    "    plt.imshow(x_train[x])\n",
    "    arr = model.predict(x_train[x].reshape(1,28,28,1))\n",
    "    indx = arr.max()\n",
    "    result = (np.argmax(arr == indx))\n",
    "    print(\"Predicted Val:\",result)\n",
    "    print(\"Actual Val:\",y_train[x])"
   ]
  },
  {
   "cell_type": "markdown",
   "id": "760da1d4-5683-4c28-a5fa-4ff15590c3aa",
   "metadata": {},
   "source": [
    "# Play around"
   ]
  },
  {
   "cell_type": "code",
   "execution_count": 411,
   "id": "42e39f77-941d-4db5-95fd-6bead84e7cfd",
   "metadata": {},
   "outputs": [
    {
     "name": "stdout",
     "output_type": "stream",
     "text": [
      "\u001b[1m1/1\u001b[0m \u001b[32m━━━━━━━━━━━━━━━━━━━━\u001b[0m\u001b[37m\u001b[0m \u001b[1m0s\u001b[0m 17ms/step\n",
      "Predicted Val: 9\n",
      "Actual Val: [9]\n"
     ]
    },
    {
     "data": {
      "image/png": "[encoded data removed]",
      "text/plain": [
       "<Figure size 640x480 with 1 Axes>"
      ]
     },
     "metadata": {},
     "output_type": "display_data"
    }
   ],
   "source": [
    "predict(random.randint(0,60000))"
   ]
  },
  {
   "cell_type": "code",
   "execution_count": 399,
   "id": "b1c4034c-8d13-4b4f-a601-6ccb29cae122",
   "metadata": {},
   "outputs": [],
   "source": [
    "def pred(num):\n",
    "    image = cv2.imread(f'{num}.png')\n",
    "    # Convert to grayscale\n",
    "    gray_image = cv2.cvtColor(image, cv2.COLOR_BGR2GRAY)\n",
    "    # Resize the image to 28x28 pixels\n",
    "    resized_image = cv2.resize(gray_image, (28, 28))\n",
    "    # Invert the image colors if necessary\n",
    "    # MNIST has black digits on white background, invert if your image is white digits on black background\n",
    "    resized_image = cv2.bitwise_not(resized_image)\n",
    "    # Normalize the image to range [0, 1]\n",
    "    normalized_image = resized_image / 255.0\n",
    "    # Reshape the image to match the input shape expected by the model (1, 28, 28, 1)\n",
    "    load = normalized_image.reshape(1, 28, 28, 1)\n",
    "    plt.imshow(normalized_image)\n",
    "    predicted_class = np.argmax(model.predict(load), axis=1)\n",
    "    print(f\"Predicted class: {predicted_class[0]}\")"
   ]
  },
  {
   "cell_type": "code",
   "execution_count": 413,
   "id": "5a75cc06-9a41-4a7a-b4c7-e4ffbe34148c",
   "metadata": {},
   "outputs": [
    {
     "name": "stdout",
     "output_type": "stream",
     "text": [
      "\u001b[1m1/1\u001b[0m \u001b[32m━━━━━━━━━━━━━━━━━━━━\u001b[0m\u001b[37m\u001b[0m \u001b[1m0s\u001b[0m 15ms/step\n",
      "Predicted class: 9\n"
     ]
    },
    {
     "data": {
      "image/png": "[encoded data removed]",
      "text/plain": [
       "<Figure size 640x480 with 1 Axes>"
      ]
     },
     "metadata": {},
     "output_type": "display_data"
    }
   ],
   "source": [
    "pred('nine')"
   ]
  }
 ],
 "metadata": {
  "kernelspec": {
   "display_name": "Python 3 (ipykernel)",
   "language": "python",
   "name": "python3"
  },
  "language_info": {
   "codemirror_mode": {
    "name": "ipython",
    "version": 3
   },
   "file_extension": ".py",
   "mimetype": "text/x-python",
   "name": "python",
   "nbconvert_exporter": "python",
   "pygments_lexer": "ipython3",
   "version": "3.12.4"
  }
 },
 "nbformat": 4,
 "nbformat_minor": 5
}
