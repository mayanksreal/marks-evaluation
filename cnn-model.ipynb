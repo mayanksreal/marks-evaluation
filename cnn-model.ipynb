{
  "cells": [
    {
      "cell_type": "markdown",
      "metadata": {
        "id": "view-in-github",
        "colab_type": "text"
      },
      "source": [
        "<a href=\"https://colab.research.google.com/github/mayanksreal/marks-evaluation/blob/main/cnn-model.ipynb\" target=\"_parent\"><img src=\"https://colab.research.google.com/assets/colab-badge.svg\" alt=\"Open In Colab\"/></a>"
      ]
    },
    {
      "cell_type": "markdown",
      "id": "92c5e946-4b03-4d6c-853b-ce691a212b10",
      "metadata": {
        "id": "92c5e946-4b03-4d6c-853b-ce691a212b10"
      },
      "source": [
        "# Handwritten Number Recognition (CNN)"
      ]
    },
    {
      "cell_type": "markdown",
      "id": "925d9368-453a-4247-a36a-cc5ae3f6f165",
      "metadata": {
        "id": "925d9368-453a-4247-a36a-cc5ae3f6f165"
      },
      "source": [
        "import numpy as np\n",
        "import random\n",
        "import cv2\n",
        "from matplotlib import pyplot as plt\n",
        "from tensorflow.keras.models import Sequential, load_model\n",
        "from tensorflow.keras.preprocessing.image import ImageDataGenerator\n",
        "from tensorflow.keras.preprocessing import image\n",
        "from tensorflow.keras.datasets import mnist\n",
        "from tensorflow.keras.layers import Conv2D, MaxPooling2D, Dense, Flatten"
      ]
    },
    {
      "cell_type": "markdown",
      "source": [
        "## Importing Libraries"
      ],
      "metadata": {
        "id": "-Id7LnhL96D4"
      },
      "id": "-Id7LnhL96D4"
    },
    {
      "cell_type": "code",
      "source": [
        "import numpy as np\n",
        "import random\n",
        "import cv2\n",
        "from matplotlib import pyplot as plt\n",
        "from tensorflow.keras.models import Sequential\n",
        "from tensorflow.keras.preprocessing.image import ImageDataGenerator\n",
        "from tensorflow.keras.preprocessing import image\n",
        "from tensorflow.keras.datasets import mnist\n",
        "from tensorflow.keras.layers import Conv2D, MaxPooling2D, Dense, Flatten"
      ],
      "metadata": {
        "id": "-n0Y-vUV95bK"
      },
      "id": "-n0Y-vUV95bK",
      "execution_count": null,
      "outputs": []
    },
    {
      "cell_type": "markdown",
      "id": "eec83ebe-38a8-4b2a-85cf-af46a955a0b8",
      "metadata": {
        "id": "eec83ebe-38a8-4b2a-85cf-af46a955a0b8"
      },
      "source": [
        "## Importing Data"
      ]
    },
    {
      "cell_type": "code",
      "execution_count": null,
      "id": "49a62500-4c90-45e7-a242-99c69a7a2305",
      "metadata": {
        "id": "49a62500-4c90-45e7-a242-99c69a7a2305",
        "colab": {
          "base_uri": "https://localhost:8080/"
        },
        "outputId": "a71cd82b-d291-4054-aaa0-3563cd1fbb90"
      },
      "outputs": [
        {
          "output_type": "stream",
          "name": "stdout",
          "text": [
            "Downloading data from https://storage.googleapis.com/tensorflow/tf-keras-datasets/mnist.npz\n",
            "11490434/11490434 [==============================] - 0s 0us/step\n"
          ]
        }
      ],
      "source": [
        "(x_train, y_train) ,(x_test, y_test) = mnist.load_data()"
      ]
    },
    {
      "cell_type": "code",
      "execution_count": null,
      "id": "02144f8f-cdf5-4d3e-92ab-b292b8199839",
      "metadata": {
        "id": "02144f8f-cdf5-4d3e-92ab-b292b8199839",
        "outputId": "e7830a73-847e-40cc-c05a-6f31f764db5a",
        "colab": {
          "base_uri": "https://localhost:8080/"
        }
      },
      "outputs": [
        {
          "output_type": "stream",
          "name": "stdout",
          "text": [
            "(60000, 28, 28)\n",
            "(60000,)\n",
            "(10000, 28, 28)\n",
            "(10000,)\n"
          ]
        }
      ],
      "source": [
        "print(\n",
        "np.shape(x_train),\n",
        "np.shape(y_train),\n",
        "np.shape(x_test),\n",
        "np.shape(y_test), sep = '\\n'\n",
        "    )"
      ]
    },
    {
      "cell_type": "markdown",
      "id": "8d1eed36-eae9-4b84-8fc3-7e5c59c8e6ed",
      "metadata": {
        "id": "8d1eed36-eae9-4b84-8fc3-7e5c59c8e6ed"
      },
      "source": [
        "### Preprocessing Data"
      ]
    },
    {
      "cell_type": "code",
      "execution_count": null,
      "id": "2909fa11-7e2e-4fe5-be6f-913be1c21fa5",
      "metadata": {
        "id": "2909fa11-7e2e-4fe5-be6f-913be1c21fa5"
      },
      "outputs": [],
      "source": [
        "x_train = x_train.reshape(len(x_train), 28, 28, 1)\n",
        "y_train = y_train.reshape(len(y_train), 1)\n",
        "x_test = x_test.reshape(len(x_test), 28, 28, 1)\n",
        "y_test = y_test.reshape(len(y_test), 1)"
      ]
    },
    {
      "cell_type": "code",
      "execution_count": null,
      "id": "6a64202c-3f97-4541-bfec-12807f5d3525",
      "metadata": {
        "id": "6a64202c-3f97-4541-bfec-12807f5d3525",
        "outputId": "2f800b18-7235-472d-e675-bb51e194b726",
        "colab": {
          "base_uri": "https://localhost:8080/"
        }
      },
      "outputs": [
        {
          "output_type": "stream",
          "name": "stdout",
          "text": [
            "(60000, 28, 28, 1)\n",
            "(60000, 1)\n",
            "(10000, 28, 28, 1)\n",
            "(10000, 1)\n"
          ]
        }
      ],
      "source": [
        "print(\n",
        "np.shape(x_train),\n",
        "np.shape(y_train),\n",
        "np.shape(x_test),\n",
        "np.shape(y_test), sep = '\\n'\n",
        "    )"
      ]
    },
    {
      "cell_type": "markdown",
      "id": "b53804de-c773-43ea-94d9-84f4211289c0",
      "metadata": {
        "id": "b53804de-c773-43ea-94d9-84f4211289c0"
      },
      "source": [
        "### Normalization"
      ]
    },
    {
      "cell_type": "code",
      "execution_count": null,
      "id": "f389319e-378d-413d-a89d-5a4fe77873a1",
      "metadata": {
        "id": "f389319e-378d-413d-a89d-5a4fe77873a1"
      },
      "outputs": [],
      "source": [
        "x_train, x_test = x_train/255.0, x_test/255.0"
      ]
    },
    {
      "cell_type": "markdown",
      "id": "6687c7b1-f076-4dea-bfe3-11ebf7902225",
      "metadata": {
        "id": "6687c7b1-f076-4dea-bfe3-11ebf7902225"
      },
      "source": [
        "## Building Model"
      ]
    },
    {
      "cell_type": "code",
      "execution_count": null,
      "id": "b04c202f-7bc9-4653-af6b-7abcee5f5703",
      "metadata": {
        "id": "b04c202f-7bc9-4653-af6b-7abcee5f5703"
      },
      "outputs": [],
      "source": [
        "model = Sequential()"
      ]
    },
    {
      "cell_type": "code",
      "execution_count": null,
      "id": "029a0afb-7db4-4035-84d3-0c4200fd4fb7",
      "metadata": {
        "id": "029a0afb-7db4-4035-84d3-0c4200fd4fb7"
      },
      "outputs": [],
      "source": [
        "model.add(Conv2D(32, (3,3), activation='relu', input_shape = (28,28,1)))\n",
        "model.add(MaxPooling2D(2,2))\n",
        "\n",
        "model.add(Conv2D(32, (3,3), activation='relu'))\n",
        "model.add(MaxPooling2D(2,2))\n",
        "\n",
        "model.add(Flatten())\n",
        "model.add(Dense(64, activation='relu'))\n",
        "model.add(Dense(10, activation = 'softmax'))"
      ]
    },
    {
      "cell_type": "code",
      "execution_count": null,
      "id": "da35f34b-f38f-438d-93c4-0876207d8ff7",
      "metadata": {
        "id": "da35f34b-f38f-438d-93c4-0876207d8ff7"
      },
      "outputs": [],
      "source": [
        "model.compile(loss = 'sparse_categorical_crossentropy' , optimizer = 'adam', metrics = ['accuracy'])"
      ]
    },
    {
      "cell_type": "markdown",
      "id": "b62b03d1-9e4c-402f-b232-ede03ce0c73a",
      "metadata": {
        "id": "b62b03d1-9e4c-402f-b232-ede03ce0c73a"
      },
      "source": [
        "## Training"
      ]
    },
    {
      "cell_type": "code",
      "execution_count": null,
      "id": "e46ae91e-8238-4d90-bdb3-c787aa6d979f",
      "metadata": {
        "id": "e46ae91e-8238-4d90-bdb3-c787aa6d979f",
        "outputId": "c4ab54a4-bdab-4338-dda6-acd48227238b",
        "colab": {
          "base_uri": "https://localhost:8080/"
        }
      },
      "outputs": [
        {
          "output_type": "stream",
          "name": "stdout",
          "text": [
            "Epoch 1/3\n",
            "48/48 [==============================] - 31s 630ms/step - loss: 0.0317 - accuracy: 0.9906 - val_loss: 0.0437 - val_accuracy: 0.9880\n",
            "Epoch 2/3\n",
            "48/48 [==============================] - 36s 741ms/step - loss: 0.0245 - accuracy: 0.9925 - val_loss: 0.0415 - val_accuracy: 0.9886\n",
            "Epoch 3/3\n",
            "48/48 [==============================] - 30s 624ms/step - loss: 0.0224 - accuracy: 0.9932 - val_loss: 0.0412 - val_accuracy: 0.9884\n"
          ]
        },
        {
          "output_type": "execute_result",
          "data": {
            "text/plain": [
              "<keras.src.callbacks.History at 0x7b25023c1420>"
            ]
          },
          "metadata": {},
          "execution_count": 29
        }
      ],
      "source": [
        "model.fit(x = x_train, y = y_train, epochs = 3, validation_split=0.2, batch_size = 1000)"
      ]
    },
    {
      "cell_type": "markdown",
      "id": "ab308e66-bbad-44cd-9472-025dabe56934",
      "metadata": {
        "id": "ab308e66-bbad-44cd-9472-025dabe56934"
      },
      "source": [
        "## Testing"
      ]
    },
    {
      "cell_type": "code",
      "execution_count": null,
      "id": "3b5aadd7-6104-44a1-bc60-edaae8e02ae6",
      "metadata": {
        "id": "3b5aadd7-6104-44a1-bc60-edaae8e02ae6",
        "outputId": "3a048c1c-dfec-46dd-d1af-b8789ecd88bc",
        "colab": {
          "base_uri": "https://localhost:8080/"
        }
      },
      "outputs": [
        {
          "output_type": "stream",
          "name": "stdout",
          "text": [
            "313/313 [==============================] - 3s 9ms/step - loss: 0.0372 - accuracy: 0.9877\n"
          ]
        },
        {
          "output_type": "execute_result",
          "data": {
            "text/plain": [
              "[0.037171971052885056, 0.9876999855041504]"
            ]
          },
          "metadata": {},
          "execution_count": 25
        }
      ],
      "source": [
        "model.evaluate(x_test, y_test)"
      ]
    },
    {
      "cell_type": "code",
      "execution_count": null,
      "id": "2354ea77-c56d-4c4f-97b1-c14c78f6cc06",
      "metadata": {
        "id": "2354ea77-c56d-4c4f-97b1-c14c78f6cc06"
      },
      "outputs": [],
      "source": [
        "def predict(x):\n",
        "    plt.imshow(x_train[x])\n",
        "    arr = model.predict(x_train[x].reshape(1,28,28,1))\n",
        "    indx = arr.max()\n",
        "    result = (np.argmax(arr == indx))\n",
        "    print(\"Predicted Val:\",result)\n",
        "    print(\"Actual Val:\",y_train[x])"
      ]
    },
    {
      "cell_type": "markdown",
      "id": "760da1d4-5683-4c28-a5fa-4ff15590c3aa",
      "metadata": {
        "id": "760da1d4-5683-4c28-a5fa-4ff15590c3aa"
      },
      "source": [
        "# Play around"
      ]
    },
    {
      "cell_type": "code",
      "execution_count": null,
      "id": "42e39f77-941d-4db5-95fd-6bead84e7cfd",
      "metadata": {
        "id": "42e39f77-941d-4db5-95fd-6bead84e7cfd",
        "outputId": "9cf6b548-457f-42db-9e51-1130915ffa01",
        "colab": {
          "base_uri": "https://localhost:8080/",
          "height": 482
        }
      },
      "outputs": [
        {
          "output_type": "stream",
          "name": "stdout",
          "text": [
            "1/1 [==============================] - 0s 20ms/step\n",
            "Predicted Val: 2\n",
            "Actual Val: [2]\n"
          ]
        },
        {
          "output_type": "display_data",
          "data": {
            "text/plain": [
              "<Figure size 640x480 with 1 Axes>"
            ],
            "image/png": "[encoded data removed]"
          },
          "metadata": {}
        }
      ],
      "source": [
        "predict(random.randint(0,60000))"
      ]
    },
    {
      "cell_type": "code",
      "execution_count": null,
      "id": "6563f130-2c08-4650-a9c2-0da5733af479",
      "metadata": {
        "id": "6563f130-2c08-4650-a9c2-0da5733af479",
        "outputId": "52e3242f-fad2-45fd-b668-c5c7bd168d4c",
        "colab": {
          "base_uri": "https://localhost:8080/"
        }
      },
      "outputs": [
        {
          "output_type": "stream",
          "name": "stdout",
          "text": [
            "313/313 [==============================] - 3s 8ms/step - loss: 0.0296 - accuracy: 0.9904\n"
          ]
        },
        {
          "output_type": "execute_result",
          "data": {
            "text/plain": [
              "[0.02960849553346634, 0.9904000163078308]"
            ]
          },
          "metadata": {},
          "execution_count": 39
        }
      ],
      "source": [
        "model.evaluate(x=x_test, y=y_test)"
      ]
    }
  ],
  "metadata": {
    "kernelspec": {
      "display_name": "Python 3 (ipykernel)",
      "language": "python",
      "name": "python3"
    },
    "language_info": {
      "codemirror_mode": {
        "name": "ipython",
        "version": 3
      },
      "file_extension": ".py",
      "mimetype": "text/x-python",
      "name": "python",
      "nbconvert_exporter": "python",
      "pygments_lexer": "ipython3",
      "version": "3.12.4"
    },
    "colab": {
      "provenance": [],
      "include_colab_link": true
    }
  },
  "nbformat": 4,
  "nbformat_minor": 5
}